{
 "cells": [
  {
   "cell_type": "markdown",
   "metadata": {},
   "source": [
    "# Configuring Aruba Network Automation Solutions - lab2 Python Lab Part\n",
    "#### \n",
    "### Note:\n",
    "### 1.Before starting this lab, please clear all the output(Select Kernel , then click \"Restart Clear output\") \n",
    "### 2.Ensure you did not ignore running any code cell. \n",
    "#### "
   ]
  },
  {
   "cell_type": "markdown",
   "metadata": {},
   "source": [
    "# 2.1 First Python code"
   ]
  },
  {
   "cell_type": "markdown",
   "metadata": {},
   "source": [
    "### Let us start with a hello word Python code."
   ]
  },
  {
   "cell_type": "code",
   "execution_count": null,
   "metadata": {},
   "outputs": [],
   "source": [
    "#Say hello world in Python\n",
    "print(\"Hello World!\")"
   ]
  },
  {
   "cell_type": "code",
   "execution_count": null,
   "metadata": {
    "scrolled": true
   },
   "outputs": [],
   "source": [
    "name = input('what is your name?')\n",
    "print('Hello World! My name is', name)"
   ]
  },
  {
   "cell_type": "markdown",
   "metadata": {},
   "source": [
    "### #  In this example, There are two built-in functions input() and print(). Python stops executing when it comes to the input() function and continues when the user has given some input.\n",
    "### "
   ]
  },
  {
   "cell_type": "markdown",
   "metadata": {},
   "source": [
    "# 2.2 Command  Python Data types"
   ]
  },
  {
   "cell_type": "markdown",
   "metadata": {},
   "source": [
    "### Next, you will show common data types in python and how to access them. Be familiar with common python data types first."
   ]
  },
  {
   "cell_type": "markdown",
   "metadata": {},
   "source": [
    "##  Data Type 1 -String"
   ]
  },
  {
   "cell_type": "code",
   "execution_count": null,
   "metadata": {},
   "outputs": [],
   "source": [
    "print(\"ABC\")"
   ]
  },
  {
   "cell_type": "markdown",
   "metadata": {},
   "source": [
    "### You can use the type() built-in function to know what the data type is."
   ]
  },
  {
   "cell_type": "code",
   "execution_count": null,
   "metadata": {},
   "outputs": [],
   "source": [
    "print(type(\"ABC\"))"
   ]
  },
  {
   "cell_type": "markdown",
   "metadata": {},
   "source": [
    "### Right, it is a string, but what if printing ABC without quotes? "
   ]
  },
  {
   "cell_type": "code",
   "execution_count": null,
   "metadata": {},
   "outputs": [],
   "source": [
    "print(ABC)"
   ]
  },
  {
   "cell_type": "markdown",
   "metadata": {},
   "source": [
    "### You can see that the first \"ABC\" is a string, but the second is a variable that is not defined yet.\n",
    "##### Variable is the logical names that you give to refer to the memory/address space that holds the data you need for your computation. Python supports a variety of data types:\n",
    "    \n",
    "    -String = character or character sequence\n",
    "\n",
    "    -Numeric = integer, float\n",
    "\n",
    "    -Boolean = True or False\n",
    "\n",
    "    -lists = [collection of values]\n",
    "\n",
    "    -Dictionary = {\"key\":\"value\"}\n",
    "\n",
    "    -Nonetype = None\n",
    "\n",
    "    -Custom datatypes (objects of classes)\n",
    "\n",
    "    etc.\n",
    "\n",
    "### You have already shown the string. Let's learn others.\n",
    "### "
   ]
  },
  {
   "cell_type": "markdown",
   "metadata": {},
   "source": [
    "## Data type 2 - Numeric "
   ]
  },
  {
   "cell_type": "markdown",
   "metadata": {},
   "source": [
    "### - Float"
   ]
  },
  {
   "cell_type": "code",
   "execution_count": null,
   "metadata": {},
   "outputs": [],
   "source": [
    "ABC = 2 * 1.5\n",
    "print(ABC)\n",
    "print(type(ABC))"
   ]
  },
  {
   "cell_type": "markdown",
   "metadata": {},
   "source": [
    "### - Integer"
   ]
  },
  {
   "cell_type": "code",
   "execution_count": null,
   "metadata": {},
   "outputs": [],
   "source": [
    "ABC = 2 * 3\n",
    "print(ABC)\n",
    "print(type(ABC))"
   ]
  },
  {
   "cell_type": "markdown",
   "metadata": {},
   "source": [
    "#### what do you think \"1\" is a string or integer?"
   ]
  },
  {
   "cell_type": "code",
   "execution_count": null,
   "metadata": {},
   "outputs": [],
   "source": [
    "print(type(\"1\"))"
   ]
  },
  {
   "cell_type": "markdown",
   "metadata": {},
   "source": [
    "### Right, it is a string that can be quoted by a single quote (') or double quotes (\"). How to transform this string into an integer? Use int() function. Likewise, you can use the str() function to transform other Data types into a string.\n",
    "### "
   ]
  },
  {
   "cell_type": "code",
   "execution_count": null,
   "metadata": {},
   "outputs": [],
   "source": [
    "print(int(\"1\"))\n",
    "print(type(int(\"1\")))"
   ]
  },
  {
   "cell_type": "code",
   "execution_count": null,
   "metadata": {},
   "outputs": [],
   "source": [
    "print(str(1))\n",
    "print(type(str(1)))"
   ]
  },
  {
   "cell_type": "markdown",
   "metadata": {},
   "source": [
    "## \n",
    "##  Data type 3 - List\n",
    "## "
   ]
  },
  {
   "cell_type": "markdown",
   "metadata": {},
   "source": [
    "#### Lists and tuples are a collection of items of heterogenous/homogenous types. However:\n",
    "    -lists are mutable, and tuples are immutable.\n",
    "    -list items are enclosed within square brackets [], and tuple items are enclosed within parentheses ()\n",
    "    \n",
    "### let's check an example of a list."
   ]
  },
  {
   "cell_type": "code",
   "execution_count": null,
   "metadata": {},
   "outputs": [],
   "source": [
    "ABC = [apple,orange,watermelon,pear]"
   ]
  },
  {
   "cell_type": "markdown",
   "metadata": {},
   "source": [
    "### Please notice that there is a NameError said the variable is not defined. Let us change the variable to a string."
   ]
  },
  {
   "cell_type": "code",
   "execution_count": null,
   "metadata": {},
   "outputs": [],
   "source": [
    "ABC = [\"apple\",\"orange\",\"watermelon\",\"pear\"]\n",
    "print(ABC)\n",
    "print(type(ABC))"
   ]
  },
  {
   "cell_type": "markdown",
   "metadata": {},
   "source": [
    "### How to access and print the first element of this list? \n",
    "### Note: Python indexing/numbering always starts from zero (0), so the first element 'apple' is 0, the second element 'orange' is 1, the third element 'watermelon' is 2 and the fourth element 'pear' is 3. "
   ]
  },
  {
   "cell_type": "code",
   "execution_count": null,
   "metadata": {},
   "outputs": [],
   "source": [
    "print(ABC[0])"
   ]
  },
  {
   "cell_type": "markdown",
   "metadata": {},
   "source": [
    "### How to access the last element, \"pear\"?"
   ]
  },
  {
   "cell_type": "code",
   "execution_count": null,
   "metadata": {},
   "outputs": [],
   "source": [
    "print(ABC[-1]) #comment: -1 mean the last index number\n",
    "#or\n",
    "print(ABC[3])"
   ]
  },
  {
   "cell_type": "markdown",
   "metadata": {},
   "source": [
    "### How to access all middle elements?"
   ]
  },
  {
   "cell_type": "code",
   "execution_count": null,
   "metadata": {},
   "outputs": [],
   "source": [
    "print(ABC[1:-1])"
   ]
  },
  {
   "cell_type": "markdown",
   "metadata": {},
   "source": [
    "### Or you can run ABC[1:3]. Here, \"3\" equals \"-1\". \"-1\" is the index of the last element of the list. "
   ]
  },
  {
   "cell_type": "code",
   "execution_count": null,
   "metadata": {},
   "outputs": [],
   "source": [
    "print(ABC[1:3])"
   ]
  },
  {
   "cell_type": "markdown",
   "metadata": {},
   "source": [
    "### What is the length of this list? you can use len() built-in function."
   ]
  },
  {
   "cell_type": "code",
   "execution_count": null,
   "metadata": {},
   "outputs": [],
   "source": [
    "print(len(ABC))"
   ]
  },
  {
   "cell_type": "markdown",
   "metadata": {},
   "source": [
    "### Now, let us look at a tricky one. How to print the second letter of the second element?  In this case, it should be the \"r\" of \"Orange\". "
   ]
  },
  {
   "cell_type": "code",
   "execution_count": null,
   "metadata": {},
   "outputs": [],
   "source": [
    "print(ABC[1][1])\n",
    "#This technique is also, called slicing."
   ]
  },
  {
   "cell_type": "markdown",
   "metadata": {},
   "source": [
    "## \n",
    "##  Data type 4 - tuple\n",
    "## "
   ]
  },
  {
   "cell_type": "code",
   "execution_count": null,
   "metadata": {},
   "outputs": [],
   "source": [
    "ABC = (1,2,3,4,5,6)\n",
    "print(ABC)\n",
    "print(type(ABC)) "
   ]
  },
  {
   "cell_type": "markdown",
   "metadata": {},
   "source": [
    "### Can you change some data, for example, replace the '3' in the tuple to 9, like a list? Check the example below."
   ]
  },
  {
   "cell_type": "code",
   "execution_count": null,
   "metadata": {},
   "outputs": [],
   "source": [
    "ABC[2] = 9"
   ]
  },
  {
   "cell_type": "markdown",
   "metadata": {},
   "source": [
    "### Answer is NO\n",
    "### You will see a TypeError here. It means a tuple is immutable. So the list is mutable, but the tuple is immutable. Also, the list is inside brackets [value, value, etc.], and the tuple is inside parentheses (value, value, etc.)"
   ]
  },
  {
   "cell_type": "markdown",
   "metadata": {},
   "source": [
    "## \n",
    "##  Data type 5 - Dictionary\n",
    "## "
   ]
  },
  {
   "cell_type": "code",
   "execution_count": null,
   "metadata": {},
   "outputs": [],
   "source": [
    "ABC = {\n",
    "  \"name\":\"Tom\",\n",
    "  \"age\":\"36\",\n",
    "  \"Gender\":\"Male\"\n",
    "  }\n",
    "print(ABC)"
   ]
  },
  {
   "cell_type": "markdown",
   "metadata": {},
   "source": [
    "### Note: Dictionaries are made up of key:value pair and ditionaries are inside brace {\"key\":\"vlaue\", \"key\":\"value\",\"key\":\"value\"}"
   ]
  },
  {
   "cell_type": "code",
   "execution_count": null,
   "metadata": {},
   "outputs": [],
   "source": [
    "print(type(ABC))"
   ]
  },
  {
   "cell_type": "markdown",
   "metadata": {},
   "source": [
    "### How to display a part of a dictionary?  For example, how do you get Tom's age?"
   ]
  },
  {
   "cell_type": "code",
   "execution_count": null,
   "metadata": {},
   "outputs": [],
   "source": [
    "print(ABC[\"age\"])"
   ]
  },
  {
   "cell_type": "markdown",
   "metadata": {},
   "source": [
    "### Now, you realized that his age is wrong. He is 40.  Then how to change his age in the dictionary?"
   ]
  },
  {
   "cell_type": "code",
   "execution_count": null,
   "metadata": {},
   "outputs": [],
   "source": [
    "ABC['age'] = 40"
   ]
  },
  {
   "cell_type": "code",
   "execution_count": null,
   "metadata": {},
   "outputs": [],
   "source": [
    "print(ABC)"
   ]
  },
  {
   "cell_type": "markdown",
   "metadata": {},
   "source": [
    "### How about if we have a list of dictionaries?"
   ]
  },
  {
   "cell_type": "code",
   "execution_count": null,
   "metadata": {},
   "outputs": [],
   "source": [
    "ABC = [{\n",
    "  \"name\":\"Tom\",\n",
    "  \"age\":\"36\",\n",
    "  \"Gender\":\"Male\"\n",
    "  },{\n",
    "  \"name\":\"BOB\",\n",
    "  \"age\":\"20\",\n",
    "  \"Gender\":\"Male\"\n",
    "  },{\n",
    "  \"name\":\"Alice\",\n",
    "  \"age\":\"26\",\n",
    "  \"Gender\":\"Female\"\n",
    "  }\n",
    "]\n",
    "print(ABC)"
   ]
  },
  {
   "cell_type": "markdown",
   "metadata": {},
   "source": [
    "### Based on the above print result, how many elements are in the list of dictionaries? \n",
    "\n",
    "#### Answer: 3\n",
    "\n",
    "#0 {'name': 'Tom', 'age': '36', 'Gender': 'Male'}, \n",
    "\n",
    "#1 {'name': 'BOB', 'age': '20', 'Gender': 'Male'}, \n",
    "\n",
    "#2 {'name': 'Alice', 'age': '26', 'Gender': 'Female'}\n",
    "\n",
    "### How many elements with the third element?  \n",
    "#### Answer: 3\n",
    "\n",
    "#0 'name': 'Alice', \n",
    "\n",
    "#1 'age': '26', \n",
    "\n",
    "#2 'Gender': 'Female' "
   ]
  },
  {
   "cell_type": "code",
   "execution_count": null,
   "metadata": {},
   "outputs": [],
   "source": [
    "print(type(ABC))"
   ]
  },
  {
   "cell_type": "markdown",
   "metadata": {},
   "source": [
    "### How do you get Alice's age?"
   ]
  },
  {
   "cell_type": "code",
   "execution_count": null,
   "metadata": {},
   "outputs": [],
   "source": [
    "print(ABC[2][\"age\"])"
   ]
  },
  {
   "cell_type": "markdown",
   "metadata": {},
   "source": [
    "#### The index number [2] is {'name': 'Alice', 'age': '26', 'Gender': 'Female'} based on the previous example, and then [age] is the dictionary \"key,\" so the result is the value \"26\"."
   ]
  },
  {
   "cell_type": "markdown",
   "metadata": {},
   "source": [
    "## \n",
    "## Data type 6 - Boolean\n",
    "## "
   ]
  },
  {
   "cell_type": "code",
   "execution_count": null,
   "metadata": {},
   "outputs": [],
   "source": [
    "ABC = True\n",
    "print(ABC)"
   ]
  },
  {
   "cell_type": "code",
   "execution_count": null,
   "metadata": {},
   "outputs": [],
   "source": [
    "print(type(ABC))"
   ]
  },
  {
   "cell_type": "code",
   "execution_count": null,
   "metadata": {},
   "outputs": [],
   "source": [
    "ABC = not True\n",
    "print(ABC)"
   ]
  },
  {
   "cell_type": "markdown",
   "metadata": {},
   "source": [
    "## \n",
    "##  Data type 7 - NoneType\n",
    "## "
   ]
  },
  {
   "cell_type": "markdown",
   "metadata": {},
   "source": [
    "### A function implicitly returns None if it reaches the end of the function's block of statements and does not encounter a return statement. "
   ]
  },
  {
   "cell_type": "code",
   "execution_count": null,
   "metadata": {
    "scrolled": true
   },
   "outputs": [],
   "source": [
    "def has_no_return_function():\n",
    "    print (\"I have no return\")\n",
    "\n",
    "print (type(has_no_return_function()))"
   ]
  },
  {
   "cell_type": "markdown",
   "metadata": {},
   "source": [
    "### For now a brief explanation of user-defined function without getting side track. \n",
    "\n",
    "A function is a block of organized, reusable code used to perform a single, related action. As a result, functions provide better modularity for your application and a high degree of code reusing. A function is a block of code that only runs when it is called, and you can pass data, known as parameters into a function.\n",
    "\n",
    "As you already know, Python gives you many built-in functions like print(), etc., but you can also create your own functions. These functions are called user-defined functions.\n",
    "\n",
    "Function blocks begin with the keyword def followed by the function name and parentheses ( ( ) ). \n",
    "###"
   ]
  },
  {
   "cell_type": "markdown",
   "metadata": {},
   "source": [
    "\n",
    "# 2.3 Conditional\n",
    "## "
   ]
  },
  {
   "cell_type": "markdown",
   "metadata": {},
   "source": [
    "### Before running the below program, consider which sentence will be printed. Then run the cell and verify if you are right."
   ]
  },
  {
   "cell_type": "code",
   "execution_count": null,
   "metadata": {},
   "outputs": [],
   "source": [
    "a = 100\n",
    "b = 99\n",
    "if b > a:\n",
    "  print(\"b is greater than a\")\n",
    "elif a == b:\n",
    "  print(\"a and b are equal\")\n",
    "else:\n",
    "  print(\"a is greater than b\")\n"
   ]
  },
  {
   "cell_type": "markdown",
   "metadata": {},
   "source": [
    "### Note: here, you may notice None is almost equal to False in the If statement. Why do we say it is almost?  See below examples to understand the similarity and differences:"
   ]
  },
  {
   "cell_type": "code",
   "execution_count": null,
   "metadata": {},
   "outputs": [],
   "source": [
    "x = None\n",
    "print(x)"
   ]
  },
  {
   "cell_type": "code",
   "execution_count": null,
   "metadata": {},
   "outputs": [],
   "source": [
    "print(not x)"
   ]
  },
  {
   "cell_type": "code",
   "execution_count": null,
   "metadata": {},
   "outputs": [],
   "source": [
    "if (not x):\n",
    " print (\"'if not x'. This means 'not x' is true\")"
   ]
  },
  {
   "cell_type": "code",
   "execution_count": null,
   "metadata": {},
   "outputs": [],
   "source": [
    "if x == False:\n",
    " print('x is False')"
   ]
  },
  {
   "cell_type": "markdown",
   "metadata": {},
   "source": [
    "### Why above program have no output? It means 'X' is not 'False'."
   ]
  },
  {
   "cell_type": "code",
   "execution_count": null,
   "metadata": {},
   "outputs": [],
   "source": [
    "if (not x) == (not False):\n",
    "    print (\"'not x' equals 'not False'\")\n",
    "#not x equals not False"
   ]
  },
  {
   "cell_type": "markdown",
   "metadata": {},
   "source": [
    "# \n",
    "# 2.4 Python Loops\n",
    "## "
   ]
  },
  {
   "cell_type": "markdown",
   "metadata": {},
   "source": [
    "## - While Loop.\n",
    "### While loop in Python executes a block of code until the specified condition becomes False. In other words, the code within the statement will continue to execute repetitiously until the condition is no longer valid (True). "
   ]
  },
  {
   "cell_type": "code",
   "execution_count": null,
   "metadata": {},
   "outputs": [],
   "source": [
    "i=1\n",
    "while i<3:\n",
    "  print(i)\n",
    "  i+=1\n",
    "else:\n",
    " print(\"i is no longer less than 3\")\n"
   ]
  },
  {
   "cell_type": "markdown",
   "metadata": {},
   "source": [
    "## - For loop. \n",
    "### Let us look at the examples shown in the presentation."
   ]
  },
  {
   "cell_type": "code",
   "execution_count": null,
   "metadata": {},
   "outputs": [],
   "source": [
    "for x in range(3,5):\n",
    "    print(x)\n"
   ]
  },
  {
   "cell_type": "markdown",
   "metadata": {},
   "source": [
    "### NOTE: When using the range, the range stops one number before the last. For example range(0,9), result of range would be 0,1,2,3,4,5,6,7, and 8 "
   ]
  },
  {
   "cell_type": "markdown",
   "metadata": {},
   "source": [
    "### In the below example, you will see how to loop in the elements of a list."
   ]
  },
  {
   "cell_type": "code",
   "execution_count": null,
   "metadata": {},
   "outputs": [],
   "source": [
    "fruits = ['apple','banana','cherry']\n",
    "for x in fruits:\n",
    "  print(x)"
   ]
  },
  {
   "cell_type": "markdown",
   "metadata": {},
   "source": [
    "### In the below example, you will see how to loop in the keys and Values of a dictionary.\n",
    "### The first example below shows how to get all the keys of the dictionary."
   ]
  },
  {
   "cell_type": "code",
   "execution_count": null,
   "metadata": {},
   "outputs": [],
   "source": [
    "super_heroes = {'Captain America':'Steve Rogers','Spiderman':'Peter Parker'}\n",
    "for superhero in super_heroes.keys():\n",
    " print(superhero)"
   ]
  },
  {
   "cell_type": "markdown",
   "metadata": {},
   "source": [
    "### The second example below shows how to get all the Values of the dictionary."
   ]
  },
  {
   "cell_type": "code",
   "execution_count": null,
   "metadata": {},
   "outputs": [],
   "source": [
    "super_heroes = {'Captain America':'Steve Rogers','Spiderman':'Peter Parker'}\n",
    "for superhero in super_heroes.values():\n",
    " print(superhero)"
   ]
  },
  {
   "cell_type": "markdown",
   "metadata": {},
   "source": [
    "### Using the cell below, try to create a loop in super_heroes.items(). Then find out what is the difference with .keys() and .values(). "
   ]
  },
  {
   "cell_type": "code",
   "execution_count": null,
   "metadata": {},
   "outputs": [],
   "source": [
    "#type your code here.\n"
   ]
  },
  {
   "cell_type": "markdown",
   "metadata": {},
   "source": [
    "## \n",
    "# 2.5 Python Functions\n",
    "## "
   ]
  },
  {
   "cell_type": "markdown",
   "metadata": {},
   "source": [
    "### A function is a block of code that only runs when it is called. You can pass data, known as parameters or arguments, into a function. You have already seen some built-in functions, like input() and print() in previous examples. Now, look at an easy custom function without the argument shown in the presentation.\n",
    "#### "
   ]
  },
  {
   "cell_type": "code",
   "execution_count": null,
   "metadata": {},
   "outputs": [],
   "source": [
    "#A Function without argument\n",
    "\n",
    "#define the function\n",
    "\n",
    "def my_function():\n",
    "  print(\"Hello World!\")\n",
    "\n",
    "#call the function\n",
    "my_function()\n"
   ]
  },
  {
   "cell_type": "markdown",
   "metadata": {},
   "source": [
    "### Below is an example of a function with an argument and how you can pass data to the function.  "
   ]
  },
  {
   "cell_type": "code",
   "execution_count": null,
   "metadata": {},
   "outputs": [],
   "source": [
    "#A Function with arguments\n",
    "\n",
    "def my_function(firstname):\n",
    "  print('Hello ' + firstname)\n",
    "\n",
    "\n",
    "my_function('Alice')\n",
    "\n",
    "my_function('Bob')"
   ]
  },
  {
   "cell_type": "markdown",
   "metadata": {},
   "source": [
    "# \n",
    "# 2.6 Python Modules\n",
    "## "
   ]
  },
  {
   "cell_type": "markdown",
   "metadata": {},
   "source": [
    "### Module is a set of functions in a file. When using a function from a module, use the syntax: module_name.function_name.\n",
    "\n",
    "#### There are two different ways to import modules into your script:\n",
    "1. Import Statement\n",
    "2. From... Import... Statement\n",
    "\n",
    "\n",
    "#### The current module Architecture is below:\n",
    "\n",
    "mymodule\\\n",
    "\n",
    "    def a() \n",
    "    \n",
    "    def b()\n",
    "\n",
    "If we use the first option, then we can use \"import mymodule\", then you use \"mymodule.a()\" to get the functionality of a().\n",
    "If we use the second option, then we can use \"from mymodule import a\". Then you can just use \"a()\" without module name.\n",
    "\n",
    "\n",
    "### Note: If the module name is followed by \"as\",  then the name following is bound directly to the imported module. Simply put it is just another way to shorten or change the module name while importing it into your script. \n",
    "#### example: import pandas as pd"
   ]
  },
  {
   "cell_type": "markdown",
   "metadata": {},
   "source": [
    "#### \n",
    "### Because the notebook is not python-format, you have to install an external module to support the Jupyter notebook, which can read the modules in another notebook. In this case, that module name is   \"demo_module_1\". If the module name is python-format with \".py,\"  there is no need to install the import_ipynb module.\n",
    "#### "
   ]
  },
  {
   "cell_type": "code",
   "execution_count": null,
   "metadata": {},
   "outputs": [],
   "source": [
    "#Installing python library needs some time. Be patient!\n",
    "!python -m pip install import_ipynb"
   ]
  },
  {
   "cell_type": "code",
   "execution_count": null,
   "metadata": {},
   "outputs": [],
   "source": [
    "#import the module and call the function\n",
    "import import_ipynb\n",
    "import demo_module_1"
   ]
  },
  {
   "cell_type": "code",
   "execution_count": null,
   "metadata": {},
   "outputs": [],
   "source": [
    "#run functions inside the module.\n",
    "demo_module_1.greeting('Jonathan')\n",
    "demo_module_1.room('101')"
   ]
  },
  {
   "cell_type": "markdown",
   "metadata": {},
   "source": [
    "# \n",
    "## Challenge:\n",
    "\n",
    "### Since we used the first option to import (Import demo_module_1), than we had to use demo_module_1.greeting() to get the greeting function. \n",
    "\n",
    "### Suppose we use the seccond option to only import a function of the module (from demo_module_1 import greeting), you can directly use greeting() without \"demo_module_1\" in your code. \n",
    "\n",
    "### You can give it a try using the second option to import the function (greeting and room) only from the module (demo_module_1),  into your script. \n",
    "\n",
    "### \n",
    "### \n",
    "\n",
    "\n",
    "\n",
    "\n",
    "\n"
   ]
  },
  {
   "cell_type": "markdown",
   "metadata": {},
   "source": [
    "### 2.6.1 - Understanding     ' _  _ main _  _  '"
   ]
  },
  {
   "cell_type": "markdown",
   "metadata": {},
   "source": [
    "### Every Python module has its name defined, and if this is 'main', it implies that the module is running standalone by the user.\n",
    "If you import this script as a module in another script, the __name__ is set to the name of the script/module.\n",
    "If  __name__ == \"main\":  is used to execute some code only if the file was run directly and not imported. \n",
    "### In the demo_module, you have a function named \"test_main\".\n",
    "    def test_main():\n",
    "      print(\"check out if 'the name is __main__' is printed below\")\n",
    "      if __name__=='__main__':\n",
    "        print('the name is __main__')\n",
    "### You may notice that in this function, there is a print sentence and an IF sentence. If the name == main, it will print out \"hello test_main\". Now execute the below code."
   ]
  },
  {
   "cell_type": "code",
   "execution_count": null,
   "metadata": {},
   "outputs": [],
   "source": [
    "demo_module_1.test_main()"
   ]
  },
  {
   "cell_type": "markdown",
   "metadata": {},
   "source": [
    "### NOTE: It looks like \"the name is __main__\" is not shown. This means this module used here itself is not \"__main__\".\n",
    "### You can go back to demo_module to execute that code. You will see it will print out \"the name is __main__\" because that function is executed locally, not from other modules."
   ]
  },
  {
   "cell_type": "markdown",
   "metadata": {},
   "source": [
    "# \n",
    "# 2.7 Python Classes and Objects\n",
    "### "
   ]
  },
  {
   "cell_type": "markdown",
   "metadata": {},
   "source": [
    "### Python is an object-oriented programming (OOP) language. A Class is a means of bundling data and functionality. A Class is like an object constructor or a \"blueprint\" for creating objects. The __init__() function is called automatically every time the class is being used to create a new object."
   ]
  },
  {
   "cell_type": "markdown",
   "metadata": {},
   "source": [
    "### Example : Create a class named Person, use the __init__() function to assign values for name and age"
   ]
  },
  {
   "cell_type": "code",
   "execution_count": null,
   "metadata": {},
   "outputs": [],
   "source": [
    "class Person:                                    # class is a keyword and “Person” is the name of the class\n",
    "  def __init__(self, name,age,gender):           # constructor method -instantiation\n",
    "    self.name = name                             # the first piece of data is the name\n",
    "    self.age = age                               # the second piece of data is the age\n",
    "    self.gender = gender                         # the third piece of data is the gender\n",
    "\n",
    "P1=Person('Tom',25,'male')        #P1 is an object (or instance of class).When executed, think of P1 'replacing' the word self \n",
    "\n",
    "print(P1.name)             # returns Tom so you can think of P1 as replacing the word ‘self’\n",
    "\n",
    "print(P1.age)              #returns 25 so you can think of P1 as replacing the word ‘self’ \n",
    "\n",
    "print(P1.gender)           #returns male so you can think of P1 as replacing the word ‘self’ \n",
    "\n",
    "print(P1)\n",
    "    \n",
    "    "
   ]
  },
  {
   "cell_type": "code",
   "execution_count": null,
   "metadata": {},
   "outputs": [],
   "source": [
    "class Person:   # class is a keyword\n",
    "  def __init__(self, name, age):   # constructor method -instantiation\n",
    "    self.name = name   # the first piece of data is the name\n",
    "    self.age = age    # the second piece of data is the age\n",
    "\n",
    "  def myfunc(self): #return state of object \n",
    "    print('Hello my name is ' + self.name + ' and my age is '+str(self.age))   \n",
    "    \n",
    "P1=Person('Tom',25)            # P1 is an object\n",
    "P1.myfunc()  \n"
   ]
  },
  {
   "cell_type": "markdown",
   "metadata": {},
   "source": [
    "# \n",
    "## Challenge:\n",
    "\n",
    "### Please add another person, Bob, with the variable P2. Input Bob's age by input() function and compare his age to Tom. If his age > Tom, then print out \"Bob is older,\" if they are the same age, then print out  \"Bob has same age with Tom,\" else print out \"Bob is younger.\" Below, you have been given an example code, but there are some errors. Try doing some troubleshooting, and there are some hints below the error code. You can check it out if you get stuck.\n",
    "#### "
   ]
  },
  {
   "cell_type": "code",
   "execution_count": null,
   "metadata": {},
   "outputs": [],
   "source": [
    "age = input(\"enter bob's age: \")\n",
    "P2=Person('Bob',age)\n",
    "if P2.age > P1.age\n",
    "  print(\"Bos is older\")\n",
    "elif p2.age = P1.age:\n",
    "  print(\"Bob has same age with Tom\")\n",
    "else:\n",
    "  print(\"Bob is younger\")"
   ]
  },
  {
   "cell_type": "markdown",
   "metadata": {},
   "source": [
    "### Hints:\n",
    "    \n",
    "    1.Check out the conditional syntax. \n",
    "    2.Understand the difference between \"= assignment operator\" and \"== equality operator\". \n",
    "    3.The variable is case sensitive. \n",
    "    4.Input() here is importing a string, not integer.\n",
    "### Answer:\n",
    "    Check out the Lab guide."
   ]
  },
  {
   "cell_type": "markdown",
   "metadata": {},
   "source": [
    "# \n",
    "# 2.8 Try Except\n"
   ]
  },
  {
   "cell_type": "markdown",
   "metadata": {},
   "source": [
    "#### The Try block lets you test a block of code for errors. \n",
    "#### The Except block lets you handle the error.\n",
    "#### If there is no exception, then Else block will be executed. \n",
    "#### The Finally block lets you execute code, regardless of the result of the try- and except blocks. (optional)\n",
    "#### Run the code in the cell below to load the variables into the kernel: You will not see an output.\n",
    "# \n"
   ]
  },
  {
   "cell_type": "code",
   "execution_count": null,
   "metadata": {},
   "outputs": [],
   "source": [
    "def divide(x, y):\n",
    "    try:\n",
    "        # Floor Division : Gives only Fractional\n",
    "        # Part as Answer\n",
    "        result = x / y\n",
    "    except ZeroDivisionError as error:\n",
    "        print(\"Sorry! You are dividing by zero \")\n",
    "        print(error)\n",
    "    else:\n",
    "        print(\"Yeah! Your answer is :\", result)\n",
    "    finally:\n",
    "        print('##This is always printed##')       \n"
   ]
  },
  {
   "cell_type": "markdown",
   "metadata": {},
   "source": [
    "### Let the code execute the below function. It will do try block first. Because it never encounters any Error so that it will execute else block, then always execute finally block.\n",
    "#### \n"
   ]
  },
  {
   "cell_type": "code",
   "execution_count": null,
   "metadata": {},
   "outputs": [],
   "source": [
    "divide(4, 2)"
   ]
  },
  {
   "cell_type": "markdown",
   "metadata": {},
   "source": [
    "### Let the code execute an error. It will do try block first, then it encounters a zeroDivisionError, then always execute finally block.\n",
    "#### \n"
   ]
  },
  {
   "cell_type": "code",
   "execution_count": null,
   "metadata": {},
   "outputs": [],
   "source": [
    "divide(4, 0)"
   ]
  },
  {
   "cell_type": "markdown",
   "metadata": {},
   "source": [
    "# \n",
    "## You completed Lab2!\n",
    "### "
   ]
  }
 ],
 "metadata": {
  "interpreter": {
   "hash": "e0e40265fc28ccc0865eea50bddb6e1dcf4d3a87d1a1b7916a506223c1366b3b"
  },
  "kernelspec": {
   "display_name": "Python 3",
   "language": "python",
   "name": "python3"
  },
  "language_info": {
   "codemirror_mode": {
    "name": "ipython",
    "version": 3
   },
   "file_extension": ".py",
   "mimetype": "text/x-python",
   "name": "python",
   "nbconvert_exporter": "python",
   "pygments_lexer": "ipython3",
   "version": "3.8.5"
  }
 },
 "nbformat": 4,
 "nbformat_minor": 4
}
