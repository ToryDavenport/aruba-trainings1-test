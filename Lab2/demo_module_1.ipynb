{
 "cells": [
  {
   "cell_type": "code",
   "execution_count": 1,
   "source": [
    "def greeting(name):\n",
    "  print(\"Hello, \" + name)\n",
    "\n",
    "def room(room_number):\n",
    "  print(\"Your room number is \" + room_number)\n",
    "\n",
    "     \n",
    "def test_main():\n",
    "  print(\"check out if 'the name is __main__' is printed below\")\n",
    "  if __name__=='__main__':\n",
    "    print('the name is __main__')"
   ],
   "outputs": [],
   "metadata": {}
  },
  {
   "cell_type": "markdown",
   "source": [
    "# CREATE A MODULE, CLASS AND OBJECT"
   ],
   "metadata": {}
  },
  {
   "cell_type": "code",
   "execution_count": 2,
   "source": [
    "class switch():\n",
    "    \"\"\" This is my custom switch module\"\"\"\n",
    "    def __init__(self) -> None:\n",
    "        self.hostname = input(\"What is the hostname of the switch?: \")\n",
    "        self.ip = input(\"What is the IP of the switch?: \")\n",
    "        self.username = input(\"What is the username of the switch?: \")\n",
    "        self.password = input(\"What is the password of the switch?: \")\n",
    "    \n",
    "    def __str__(self):\n",
    "        return f\"Switch details:\\n\\tHostname: {self.hostname}\\n\\tIP: {self.ip}\\n\\tUsername: {self.username}\\n\\tPassword: {self.password}\""
   ],
   "outputs": [],
   "metadata": {}
  },
  {
   "cell_type": "markdown",
   "source": [
    "# Reuse the module"
   ],
   "metadata": {}
  },
  {
   "cell_type": "code",
   "execution_count": 3,
   "source": [
    "from switch import switch\n",
    "\n",
    "myswitch = switch()\n",
    "\n",
    "print(myswitch)\n"
   ],
   "outputs": [
    {
     "output_type": "stream",
     "name": "stdout",
     "text": [
      "Switch details:\n",
      "\tHostname: myhostname\n",
      "\tIP: 1.1.1.1\n",
      "\tUsername: admin\n",
      "\tPassword password\n"
     ]
    }
   ],
   "metadata": {}
  }
 ],
 "metadata": {
  "kernelspec": {
   "name": "python3",
   "display_name": "Python 3.8.10 64-bit"
  },
  "language_info": {
   "codemirror_mode": {
    "name": "ipython",
    "version": 3
   },
   "file_extension": ".py",
   "mimetype": "text/x-python",
   "name": "python",
   "nbconvert_exporter": "python",
   "pygments_lexer": "ipython3",
   "version": "3.8.10"
  },
  "interpreter": {
   "hash": "916dbcbb3f70747c44a77c7bcd40155683ae19c65e1c03b4aa3499c5328201f1"
  }
 },
 "nbformat": 4,
 "nbformat_minor": 4
}