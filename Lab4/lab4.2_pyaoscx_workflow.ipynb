{
 "cells": [
  {
   "cell_type": "markdown",
   "metadata": {},
   "source": [
    "# Configuring Aruba Network Automation Solutions - Lab4.2 Pyaoscx Workflow\n",
    "## Note:1.Before starting this lab, please clear all the output (Select Kernel, then click \"Restart Clear output\") 2.Ensure you did not ignore running any code cell.\n",
    "\n",
    "### There are two Approaches to use pyaoscx: open granulated approach and Imperative Factory Approach to utilize Pyaoscx library.\n",
    "\n",
    "## Requirements:\n",
    "#### On Access switch:\n",
    "-\tUtilize open granulated approach to create vlan200, add a description and put Interface into the VLAN. \n",
    "-\tUtilize Imperative Factory Approach to create VLAN201.\n",
    "-\tChanlenges: understand how to handle configurarion. Save the running-config to checkpoint and TFTP server.\n"
   ]
  },
  {
   "cell_type": "code",
   "execution_count": null,
   "metadata": {},
   "outputs": [],
   "source": [
    "#Installing library needs some time. wait to see the installation result before you execute next cell. Be patient!\n",
    "# you are going to install pycentral v2.0.0. \n",
    "# If you execute \"pip install pyaoscx\" without version, it will install the latest.However, we cannot guarantee it will work for this lab.\n",
    "!pip install pyaoscx==2.0.0 "
   ]
  },
  {
   "cell_type": "code",
   "execution_count": null,
   "metadata": {},
   "outputs": [],
   "source": [
    "#get to know the pyaoscx and where it is installed. wait to see the output before you execute next cell. \n",
    "!pip show pyaoscx"
   ]
  },
  {
   "cell_type": "code",
   "execution_count": null,
   "metadata": {},
   "outputs": [],
   "source": [
    "# Import modules.\n",
    "# You won't see any outputs.\n",
    "from pyaoscx.session import Session\n",
    "from pyaoscx.pyaoscx_factory import PyaoscxFactory\n",
    "from pyaoscx.vlan import Vlan\n",
    "from pyaoscx.interface import Interface\n",
    "from pyaoscx.static_route import StaticRoute\n",
    "from pyaoscx.vrf import Vrf\n",
    "import urllib3\n",
    "urllib3.disable_warnings()"
   ]
  },
  {
   "cell_type": "code",
   "execution_count": null,
   "metadata": {},
   "outputs": [],
   "source": [
    "# There are two approaches to workflows, both using the session.\n",
    "# For the version, we have two options \"1\" and \"10.04\". In this lab we choose \"10.04\".\n",
    "# Replace <Your Access switch Management IP> with your Access switch IP(10.251.X.103)\n",
    "# Replace <Your Switch Username> and <Your Switch Password> with your credential: admin/aruba123.\n",
    "# You won't see any outputs.Go ahead to execute next code cell.\n",
    "\n",
    "version = '10.04'\n",
    "switch_ip = '<Your Access switch Management IP> '\n",
    "s = Session(switch_ip, version)\n",
    "s.open('<Your Switch Username>', '<Your Switch Password>')\n"
   ]
  },
  {
   "cell_type": "markdown",
   "metadata": {},
   "source": [
    "#  APPROACH 1: OPEN GRANULATED APPROACH\n",
    "#### "
   ]
  },
  {
   "cell_type": "code",
   "execution_count": null,
   "metadata": {},
   "outputs": [],
   "source": [
    "# Create Vlan object -- Not yet materialized\n",
    "# Vlan is a Python Class that has been defined in PYTHON module pyaoscxl.vlan\n",
    "# vlan200 is a object or instance of this Class\n",
    "# we don't configure voice VLAN for now.\n",
    "# You won't see any outputs.\n",
    "\n",
    "vlan200 = Vlan(s, 200, name=\"VLAN 200\", voice=False)\n"
   ]
  },
  {
   "cell_type": "code",
   "execution_count": null,
   "metadata": {},
   "outputs": [],
   "source": [
    "# Since object is not materialized, performs a POST request -- This method internally makes a GET request right after the POST\n",
    "# Obtaining all attributes VLAN related\n",
    "# If you get an \"Internal server error\", that means the vlan is already exsisted.\n",
    "# You are supposed to see \"True\" which means the vlan is created.\n",
    "\n",
    "vlan200.apply()\n"
   ]
  },
  {
   "cell_type": "code",
   "execution_count": null,
   "metadata": {},
   "outputs": [],
   "source": [
    "# Display all Vlans with below code. You can also go to CLI to check if the vlan has been created.\n",
    "\n",
    "Vlan.get_all(s)\n"
   ]
  },
  {
   "cell_type": "code",
   "execution_count": null,
   "metadata": {},
   "outputs": [],
   "source": [
    "# Check if the voice VLAN is enabled. You are supposed to see the voice VLAN is disabled.\n",
    "print(\"VLAN voice is enabled  - {}\".format(vlan200.voice))"
   ]
  },
  {
   "cell_type": "code",
   "execution_count": null,
   "metadata": {},
   "outputs": [],
   "source": [
    "#Add description for vlan200\n",
    "#Print function will put \"vlan200.desacrition\" into the \"{}\" then print out the result.\n",
    "\n",
    "vlan200.description = \"New description, changed via pyaoscx SDK\"\n",
    "vlan200.apply()\n",
    "\n",
    "# Now vlan200 contains the description attribute\n",
    "\n",
    "print(\"VLAN 200 description {}\".format(vlan200.description))\n"
   ]
  },
  {
   "cell_type": "markdown",
   "metadata": {},
   "source": [
    "### Now create another object for vlan1, that we know already exists inside of the Switch"
   ]
  },
  {
   "cell_type": "code",
   "execution_count": null,
   "metadata": {},
   "outputs": [],
   "source": [
    "# Notice that you didn't \"apply\" the vlan1 because the vlan1 has already existed\n",
    "vlan1 = Vlan(s, 1)\n",
    "\n",
    "\n",
    "# a GET request is called to obtain the VLAN's information.\n",
    "# The information is then added to the object as attributes.\n",
    "\n",
    "vlan1.get()\n"
   ]
  },
  {
   "cell_type": "code",
   "execution_count": null,
   "metadata": {},
   "outputs": [],
   "source": [
    "# Now, you are able to modify the objects internal attributes\n",
    "\n",
    "vlan1.voice = True\n",
    "\n",
    "# Apply changes\n",
    "changed = vlan1.apply()\n",
    "\n",
    "# If changed is True, a PUT request was done and object was modified.\n",
    "# You won't see any outputs. You can go to CLI to check if the voice vlan has been applied to vlan1.\n"
   ]
  },
  {
   "cell_type": "markdown",
   "metadata": {},
   "source": [
    "### Now it is your turn to enable voice VLAN for vlan 200. enter the code below"
   ]
  },
  {
   "cell_type": "code",
   "execution_count": null,
   "metadata": {},
   "outputs": [],
   "source": []
  },
  {
   "cell_type": "code",
   "execution_count": null,
   "metadata": {},
   "outputs": [],
   "source": [
    "# if your configuraration is right, You should see the output below is true. If not, go back to fix your code.\n",
    "print(\"Voice VLAN for vlan 200 is enabled  - {}\".format(vlan200.voice))"
   ]
  },
  {
   "cell_type": "markdown",
   "metadata": {},
   "source": [
    "#  APPROACH 2: IMPERATIVE FACTORY APPROACH\n",
    "\n",
    "## pyaoscx.pyaoscx_factory provide a class named PyaoscxFactoty to instantiate all pyaoscx Modules through specific methods. https://github.com/aruba/pyaoscx/blob/master/pyaoscx/pyaoscx_factory.py\n",
    "\n",
    "### "
   ]
  },
  {
   "cell_type": "code",
   "execution_count": null,
   "metadata": {},
   "outputs": [],
   "source": [
    "# Create VLAN 201\n",
    "# Create Factory object, passing the Session Object\n",
    "\n",
    "factory = PyaoscxFactory(s)\n"
   ]
  },
  {
   "cell_type": "code",
   "execution_count": null,
   "metadata": {},
   "outputs": [],
   "source": [
    "# Create Vlan object\n",
    "# If vlan is non-existent, Factory instantly creates it inside the switch device\n",
    "\n",
    "vlan201 = factory.vlan(201, \"NAME201\")\n"
   ]
  },
  {
   "cell_type": "code",
   "execution_count": null,
   "metadata": {},
   "outputs": [],
   "source": [
    "# Display all Vlans with below code. You can also go to CLI to check if the vlan has been created.\n",
    "\n",
    "Vlan.get_all(s)\n"
   ]
  },
  {
   "cell_type": "code",
   "execution_count": null,
   "metadata": {},
   "outputs": [],
   "source": [
    "# At the end, the session MUST be closed\n",
    "\n",
    "s.close()"
   ]
  },
  {
   "cell_type": "markdown",
   "metadata": {},
   "source": [
    "# Challenges:\n",
    "### •\t1. Get the Access switch running-config configuration\n",
    "### •\t2. Save it to a checkpoint named “checkpoint1_by_pyaoscx”\n",
    "### •\t3. Backup running-config to tftp server 10.251.X.90 (X is your table number)\n"
   ]
  },
  {
   "cell_type": "markdown",
   "metadata": {},
   "source": [
    "#=======================================================================================\n",
    "\n",
    "# Solution:\n",
    "\n",
    "### Note:You have to change the below cell to \"code\" type and move them to the above the \"s.close\" cell to run.\n",
    " \n",
    "#### # Replace TFTP_Server_IP with your wired VLT(10.251.X.90)\n",
    "    config1 is an object of Class Configuration. \"get_full_config\" , \"create_checkpoint\" and \"backup_configuration\" are functions under the class. "
   ]
  },
  {
   "cell_type": "markdown",
   "metadata": {},
   "source": [
    "from pyaoscx.configuration import Configuration \n",
    "\n",
    "config1=Configuration(s)\n",
    "\n",
    "Configuration.get_full_config(config1,\"startup-config\")\n",
    "\n",
    "Configuration.create_checkpoint(config1,\"running-config\",\"checkpoint1_by_pyaoscx11\")\n",
    "\n",
    "Configuration.backup_configuration(config1, \"running-config\", output_file=\"test_config\",\n",
    "                             vrf=\"<VRF name\", config_type='json',\n",
    "                             remote_file_tftp_path=\"tftp://<TFTP server IP>/test_config\")  \n",
    "                             \n"
   ]
  },
  {
   "cell_type": "markdown",
   "metadata": {},
   "source": [
    "#  You completed the LAB4.2!\n",
    "#### "
   ]
  }
 ],
 "metadata": {
  "kernelspec": {
   "display_name": "Python 3",
   "language": "python",
   "name": "python3"
  },
  "language_info": {
   "codemirror_mode": {
    "name": "ipython",
    "version": 3
   },
   "file_extension": ".py",
   "mimetype": "text/x-python",
   "name": "python",
   "nbconvert_exporter": "python",
   "pygments_lexer": "ipython3",
   "version": "3.8.5"
  }
 },
 "nbformat": 4,
 "nbformat_minor": 4
}
