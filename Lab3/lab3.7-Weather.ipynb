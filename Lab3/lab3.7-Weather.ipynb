{
 "cells": [
  {
   "cell_type": "markdown",
   "source": [
    "## Lab3 Task7"
   ],
   "metadata": {}
  },
  {
   "cell_type": "markdown",
   "source": [
    "   \n",
    "# ArubaNetworks Network Automation Product Training - Lab3.7 \n",
    "## - Use Python requests module to make an API call (Weather) and Parse JSON data to Python Format.\n",
    "\n",
    "### Note:1.Before starting this lab, please clear all the output (Select Kernel, then click \"Restart Clear output\")  2.Ensure you did not ignore running any code cell.\n",
    "\n",
    "## Requirement:\n",
    "\n",
    "### Make a GET API call. Integrate base API endpoint, city, and API key to get the full URL. Then transfer the JSON result to Python format. Analyze the Python data architecture. Print out city name and part of data we need. in this case, it is weather \"description.\""
   ],
   "metadata": {}
  },
  {
   "cell_type": "code",
   "execution_count": 1,
   "source": [
    "# Import required external Module\n",
    "import pprint \n",
    "import requests # importing the request module\n",
    "import json # this is used to parse JSON format"
   ],
   "outputs": [],
   "metadata": {}
  },
  {
   "cell_type": "code",
   "execution_count": 2,
   "source": [
    "#Achive city and appid information. Please enter the city name, for example, Portland. Then enter. No output in this cell.\n",
    "\n",
    "appid = \"4b635b2773512f4c1fbadb0e260f1eec\"\n",
    "city = input(\"enter city name: \")"
   ],
   "outputs": [],
   "metadata": {}
  },
  {
   "cell_type": "code",
   "execution_count": 3,
   "source": [
    "#get the full API endpoint. \n",
    "base_url = 'http://api.openweathermap.org/data/2.5/weather?'         # text from a website\n",
    "params = \"q=%s&appid=%s\" % (city,appid)                             # %s is the variable which will be replaced by later variables in () in order.\n",
    "full_url = base_url+params\n",
    "\n",
    "print(full_url)                                                  # this is not nessessary. just for verifying."
   ],
   "outputs": [
    {
     "output_type": "stream",
     "name": "stdout",
     "text": [
      "http://api.openweathermap.org/data/2.5/weather?q=philadelphia&appid=4b635b2773512f4c1fbadb0e260f1eec\n"
     ]
    }
   ],
   "metadata": {}
  },
  {
   "cell_type": "markdown",
   "source": [
    "### To open a network connection, we need a package called requests - it allows us to open a network connection and implement CRUD(create, read, update and delete) operations.\n",
    "#### "
   ],
   "metadata": {}
  },
  {
   "cell_type": "code",
   "execution_count": 4,
   "source": [
    "#Use requests module to get data.No output for this cell.\n",
    "response = requests.get(full_url) # opening a network and fetching a data"
   ],
   "outputs": [],
   "metadata": {}
  },
  {
   "cell_type": "markdown",
   "source": [
    "### print out result (JSON format) and request status code."
   ],
   "metadata": {}
  },
  {
   "cell_type": "code",
   "execution_count": 5,
   "source": [
    "pprint.pformat(response)\n",
    "pprint.pformat(response.status_code)    # status code, success:200\n",
    "pprint.pprint(response.text) # gives all the text from the page"
   ],
   "outputs": [
    {
     "output_type": "stream",
     "name": "stdout",
     "text": [
      "('{\"coord\":{\"lon\":-75.1638,\"lat\":39.9523},\"weather\":[{\"id\":803,\"main\":\"Clouds\",\"description\":\"broken '\n",
      " 'clouds\",\"icon\":\"04d\"}],\"base\":\"stations\",\"main\":{\"temp\":282.37,\"feels_like\":278.16,\"temp_min\":280.46,\"temp_max\":283.9,\"pressure\":1010,\"humidity\":50},\"visibility\":10000,\"wind\":{\"speed\":10.8,\"deg\":270,\"gust\":15.43},\"clouds\":{\"all\":75},\"dt\":1650391718,\"sys\":{\"type\":2,\"id\":2037403,\"country\":\"US\",\"sunrise\":1650363407,\"sunset\":1650411740},\"timezone\":-14400,\"id\":4560349,\"name\":\"Philadelphia\",\"cod\":200}')\n"
     ]
    }
   ],
   "metadata": {}
  },
  {
   "cell_type": "markdown",
   "source": [
    "### Parsing JSON to python format."
   ],
   "metadata": {}
  },
  {
   "cell_type": "code",
   "execution_count": 6,
   "source": [
    "data_python = json.loads(response.text)  \n",
    "    #Json module has two functions to parsing json to python.\n",
    "    #one is load() which requires a file as the argument. \n",
    "    #another is loads() which requires a string as the argument. in this case we are using loads()\n",
    "pprint.pprint(data_python)"
   ],
   "outputs": [
    {
     "output_type": "stream",
     "name": "stdout",
     "text": [
      "{'base': 'stations',\n",
      " 'clouds': {'all': 75},\n",
      " 'cod': 200,\n",
      " 'coord': {'lat': 39.9523, 'lon': -75.1638},\n",
      " 'dt': 1650391718,\n",
      " 'id': 4560349,\n",
      " 'main': {'feels_like': 278.16,\n",
      "          'humidity': 50,\n",
      "          'pressure': 1010,\n",
      "          'temp': 282.37,\n",
      "          'temp_max': 283.9,\n",
      "          'temp_min': 280.46},\n",
      " 'name': 'Philadelphia',\n",
      " 'sys': {'country': 'US',\n",
      "         'id': 2037403,\n",
      "         'sunrise': 1650363407,\n",
      "         'sunset': 1650411740,\n",
      "         'type': 2},\n",
      " 'timezone': -14400,\n",
      " 'visibility': 10000,\n",
      " 'weather': [{'description': 'broken clouds',\n",
      "              'icon': '04d',\n",
      "              'id': 803,\n",
      "              'main': 'Clouds'}],\n",
      " 'wind': {'deg': 270, 'gust': 15.43, 'speed': 10.8}}\n"
     ]
    }
   ],
   "metadata": {}
  },
  {
   "cell_type": "markdown",
   "source": [
    "### Custom the output as needed. In this case, we need to print out the city and its weather description.\n",
    "### let us analyze the data architecture. Firstly, the whole output is a dictionary that consisted of several items. Weather is one of them, so if we want to export complete weather information, we can use data_python[\"weather\"]. Then you can see the value of weather item is a list which is using []. In this list, there is only one element which is another dictionary. how to access the value of the key \"description\" for this dictionary? we can use data_python[\"weather\"][0][\"description\"]. [0] means the first and only(in this case) element.\n",
    "### if you are using pycharm or vscode. You may need to install requests module by \"pip install requests\"."
   ],
   "metadata": {}
  },
  {
   "cell_type": "code",
   "execution_count": 7,
   "source": [
    "print(city + \"'s weather is \" + data_python[\"weather\"][0][\"description\"])"
   ],
   "outputs": [
    {
     "output_type": "stream",
     "name": "stdout",
     "text": [
      "philadelphia's weather is broken clouds\n"
     ]
    }
   ],
   "metadata": {}
  },
  {
   "cell_type": "markdown",
   "source": [
    "### Next, let us transfer above code to an function so that it can be used easily by others."
   ],
   "metadata": {}
  },
  {
   "cell_type": "code",
   "execution_count": 9,
   "source": [
    "# Import required external Module. No output.\n",
    "import pprint \n",
    "import requests # importing the request module\n",
    "import json # this is used to parse JSON format\n",
    "\n",
    "def weather(city, appid):\n",
    "    \n",
    "  base_url = 'http://api.openweathermap.org/data/2.5/weather?'         # text from a website\n",
    "  params = \"q=%s&appid=%s\" % (city,appid)                             # %s is the variable which will be replaced by in order.\n",
    "  full_url = base_url+params\n",
    "  print(full_url)                                             \n",
    "    \n",
    "  response = requests.get(full_url) # opening a network and fetching a data\n",
    "  pprint.pformat(response)\n",
    "  pprint.pformat(response.status_code) # status code, success:200\n",
    "  pprint.pformat(response.headers)     # headers information\n",
    "  pprint.pprint(response.text) # gives all the text from the page\n",
    "  data_python = json.loads(response.text)\n",
    "  pprint.pprint(data_python)\n",
    "  print(city + \"'s weather is \" + data_python[\"weather\"][0][\"description\"]) \n"
   ],
   "outputs": [],
   "metadata": {}
  },
  {
   "cell_type": "markdown",
   "source": [
    "### Run this function. You need to type a city name (For example, Portland), then enter."
   ],
   "metadata": {}
  },
  {
   "cell_type": "code",
   "execution_count": 10,
   "source": [
    "appid = \"4b635b2773512f4c1fbadb0e260f1eec\"\n",
    "city = input(\"enter city name: \")\n",
    "\n",
    "weather(city,appid)"
   ],
   "outputs": [
    {
     "output_type": "stream",
     "name": "stdout",
     "text": [
      "http://api.openweathermap.org/data/2.5/weather?q=philadelphia&appid=4b635b2773512f4c1fbadb0e260f1eec\n",
      "('{\"coord\":{\"lon\":-75.1638,\"lat\":39.9523},\"weather\":[{\"id\":803,\"main\":\"Clouds\",\"description\":\"broken '\n",
      " 'clouds\",\"icon\":\"04d\"}],\"base\":\"stations\",\"main\":{\"temp\":282.38,\"feels_like\":278.17,\"temp_min\":280.46,\"temp_max\":284.19,\"pressure\":1010,\"humidity\":50},\"visibility\":10000,\"wind\":{\"speed\":10.8,\"deg\":270,\"gust\":15.43},\"clouds\":{\"all\":75},\"dt\":1650391868,\"sys\":{\"type\":2,\"id\":2037403,\"country\":\"US\",\"sunrise\":1650363407,\"sunset\":1650411740},\"timezone\":-14400,\"id\":4560349,\"name\":\"Philadelphia\",\"cod\":200}')\n",
      "{'base': 'stations',\n",
      " 'clouds': {'all': 75},\n",
      " 'cod': 200,\n",
      " 'coord': {'lat': 39.9523, 'lon': -75.1638},\n",
      " 'dt': 1650391868,\n",
      " 'id': 4560349,\n",
      " 'main': {'feels_like': 278.17,\n",
      "          'humidity': 50,\n",
      "          'pressure': 1010,\n",
      "          'temp': 282.38,\n",
      "          'temp_max': 284.19,\n",
      "          'temp_min': 280.46},\n",
      " 'name': 'Philadelphia',\n",
      " 'sys': {'country': 'US',\n",
      "         'id': 2037403,\n",
      "         'sunrise': 1650363407,\n",
      "         'sunset': 1650411740,\n",
      "         'type': 2},\n",
      " 'timezone': -14400,\n",
      " 'visibility': 10000,\n",
      " 'weather': [{'description': 'broken clouds',\n",
      "              'icon': '04d',\n",
      "              'id': 803,\n",
      "              'main': 'Clouds'}],\n",
      " 'wind': {'deg': 270, 'gust': 15.43, 'speed': 10.8}}\n",
      "philadelphia's weather is broken clouds\n"
     ]
    }
   ],
   "metadata": {}
  },
  {
   "cell_type": "code",
   "execution_count": null,
   "source": [
    "### Try: Print out the wind speed of the city. The answer is in the lab guide.\n",
    "\n",
    "countries_list = []\n",
    "\n",
    "for i in range (leg(data_python)):"
   ],
   "outputs": [],
   "metadata": {}
  }
 ],
 "metadata": {
  "kernelspec": {
   "name": "python3",
   "display_name": "Python 3.8.10 64-bit"
  },
  "language_info": {
   "codemirror_mode": {
    "name": "ipython",
    "version": 3
   },
   "file_extension": ".py",
   "mimetype": "text/x-python",
   "name": "python",
   "nbconvert_exporter": "python",
   "pygments_lexer": "ipython3",
   "version": "3.8.10"
  },
  "interpreter": {
   "hash": "916dbcbb3f70747c44a77c7bcd40155683ae19c65e1c03b4aa3499c5328201f1"
  }
 },
 "nbformat": 4,
 "nbformat_minor": 4
}