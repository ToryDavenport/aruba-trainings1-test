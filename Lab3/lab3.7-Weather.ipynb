{
 "cells": [
  {
   "cell_type": "markdown",
   "metadata": {},
   "source": [
    "## Lab3 Task7"
   ]
  },
  {
   "cell_type": "markdown",
   "metadata": {},
   "source": [
    "   \n",
    "# ArubaNetworks Network Automation Product Training - Lab3.7 \n",
    "## - Use Python requests module to make an API call (Weather) and Parse JSON data to Python Format.\n",
    "\n",
    "### Note:1.Before starting this lab, please clear all the output (Select Kernel, then click \"Restart Clear output\")  2.Ensure you did not ignore running any code cell.\n",
    "\n",
    "## Requirement:\n",
    "\n",
    "### Make a GET API call. Integrate base API endpoint, city, and API key to get the full URL. Then transfer the JSON result to Python format. Analyze the Python data architecture. Print out city name and part of data we need. in this case, it is weather \"description.\""
   ]
  },
  {
   "cell_type": "code",
   "execution_count": null,
   "metadata": {},
   "outputs": [],
   "source": [
    "# Import required external Module\n",
    "import pprint \n",
    "import requests # importing the request module\n",
    "import json # this is used to parse JSON format"
   ]
  },
  {
   "cell_type": "code",
   "execution_count": null,
   "metadata": {},
   "outputs": [],
   "source": [
    "#Achive city and appid information. Please enter the city name, for example, Portland. Then enter. No output in this cell.\n",
    "\n",
    "appid = \"4b635b2773512f4c1fbadb0e260f1eec\"\n",
    "city = input(\"enter city name: \")"
   ]
  },
  {
   "cell_type": "code",
   "execution_count": null,
   "metadata": {},
   "outputs": [],
   "source": [
    "#get the full API endpoint. \n",
    "base_url = 'http://api.openweathermap.org/data/2.5/weather?'         # text from a website\n",
    "params = \"q=%s&appid=%s\" % (city,appid)                             # %s is the variable which will be replaced by later variables in () in order.\n",
    "full_url = base_url+params\n",
    "\n",
    "print(full_url)                                                  # this is not nessessary. just for verifying."
   ]
  },
  {
   "cell_type": "markdown",
   "metadata": {},
   "source": [
    "### To open a network connection, we need a package called requests - it allows us to open a network connection and implement CRUD(create, read, update and delete) operations.\n",
    "#### "
   ]
  },
  {
   "cell_type": "code",
   "execution_count": null,
   "metadata": {},
   "outputs": [],
   "source": [
    "#Use requests module to get data.No output for this cell.\n",
    "response = requests.get(full_url) # opening a network and fetching a data"
   ]
  },
  {
   "cell_type": "markdown",
   "metadata": {},
   "source": [
    "### print out result (JSON format) and request status code."
   ]
  },
  {
   "cell_type": "code",
   "execution_count": null,
   "metadata": {},
   "outputs": [],
   "source": [
    "pprint.pformat(response)\n",
    "pprint.pformat(response.status_code)    # status code, success:200\n",
    "pprint.pprint(response.text) # gives all the text from the page"
   ]
  },
  {
   "cell_type": "markdown",
   "metadata": {},
   "source": [
    "### Parsing JSON to python format."
   ]
  },
  {
   "cell_type": "code",
   "execution_count": null,
   "metadata": {},
   "outputs": [],
   "source": [
    "data_python = json.loads(response.text)  \n",
    "    #Json module has two functions to parsing json to python.\n",
    "    #one is load() which requires a file as the argument. \n",
    "    #another is loads() which requires a string as the argument. in this case we are using loads()\n",
    "pprint.pprint(data_python)"
   ]
  },
  {
   "cell_type": "markdown",
   "metadata": {},
   "source": [
    "### Custom the output as needed. In this case, we need to print out the city and its weather description.\n",
    "### let us analyze the data architecture. Firstly, the whole output is a dictionary that consisted of several items. Weather is one of them, so if we want to export complete weather information, we can use data_python[\"weather\"]. Then you can see the value of weather item is a list which is using []. In this list, there is only one element which is another dictionary. how to access the value of the key \"description\" for this dictionary? we can use data_python[\"weather\"][0][\"description\"]. [0] means the first and only(in this case) element.\n",
    "### if you are using pycharm or vscode. You may need to install requests module by \"pip install requests\"."
   ]
  },
  {
   "cell_type": "code",
   "execution_count": null,
   "metadata": {},
   "outputs": [],
   "source": [
    "print(city + \"'s weather is \" + data_python[\"weather\"][0][\"description\"])"
   ]
  },
  {
   "cell_type": "markdown",
   "metadata": {},
   "source": [
    "### Next, let us transfer above code to an function so that it can be used easily by others."
   ]
  },
  {
   "cell_type": "code",
   "execution_count": null,
   "metadata": {},
   "outputs": [],
   "source": [
    "# Import required external Module. No output.\n",
    "import pprint \n",
    "import requests # importing the request module\n",
    "import json # this is used to parse JSON format\n",
    "\n",
    "def weather(city, appid):\n",
    "    \n",
    "  base_url = 'http://api.openweathermap.org/data/2.5/weather?'         # text from a website\n",
    "  params = \"q=%s&appid=%s\" % (city,appid)                             # %s is the variable which will be replaced by in order.\n",
    "  full_url = base_url+params\n",
    "  print(full_url)                                             \n",
    "    \n",
    "  response = requests.get(full_url) # opening a network and fetching a data\n",
    "  pprint.pformat(response)\n",
    "  pprint.pformat(response.status_code) # status code, success:200\n",
    "  pprint.pformat(response.headers)     # headers information\n",
    "  pprint.pprint(response.text) # gives all the text from the page\n",
    "  data_python = json.loads(response.text)\n",
    "  pprint.pprint(data_python)\n",
    "  print(city + \"'s weather is \" + data_python[\"weather\"][0][\"description\"]) \n"
   ]
  },
  {
   "cell_type": "markdown",
   "metadata": {},
   "source": [
    "### Run this function. You need to type a city name (For example, Portland), then enter."
   ]
  },
  {
   "cell_type": "code",
   "execution_count": null,
   "metadata": {},
   "outputs": [],
   "source": [
    "appid = \"4b635b2773512f4c1fbadb0e260f1eec\"\n",
    "city = input(\"enter city name: \")\n",
    "\n",
    "weather(city,appid)"
   ]
  },
  {
   "cell_type": "markdown",
   "metadata": {},
   "source": [
    "### Try: Print out the wind speed of the city. The answer is in the lab guide.\n"
   ]
  },
  {
   "cell_type": "code",
   "execution_count": null,
   "metadata": {},
   "outputs": [],
   "source": []
  }
 ],
 "metadata": {
  "kernelspec": {
   "display_name": "Python 3",
   "language": "python",
   "name": "python3"
  },
  "language_info": {
   "codemirror_mode": {
    "name": "ipython",
    "version": 3
   },
   "file_extension": ".py",
   "mimetype": "text/x-python",
   "name": "python",
   "nbconvert_exporter": "python",
   "pygments_lexer": "ipython3",
   "version": "3.8.5"
  }
 },
 "nbformat": 4,
 "nbformat_minor": 4
}
